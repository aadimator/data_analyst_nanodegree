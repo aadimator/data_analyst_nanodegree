{
 "cells": [
  {
   "cell_type": "markdown",
   "metadata": {},
   "source": [
    "# Data Analyst Nanodegree\n",
    "\n",
    "My name is **Aadam** and these are my submissions for the projects that are part of the [Data Analyst Nanodegree](https://www.udacity.com/degrees/data-analyst-nanodegree--nd002) provided by [Udacity](https://www.udacity.com)."
   ]
  },
  {
   "cell_type": "markdown",
   "metadata": {},
   "source": [
    "## [P0: Analyze Chopstick Length](Data_Analyst_ND_Project0.html)\n",
    "This is an optional project to make us comfortable working with Jupyter Notebooks and installing the required packages for future projects. "
   ]
  }
 ],
 "metadata": {
  "kernelspec": {
   "display_name": "Python 2",
   "language": "python",
   "name": "python2"
  },
  "language_info": {
   "codemirror_mode": {
    "name": "ipython",
    "version": 2
   },
   "file_extension": ".py",
   "mimetype": "text/x-python",
   "name": "python",
   "nbconvert_exporter": "python",
   "pygments_lexer": "ipython2",
   "version": "2.7.13"
  }
 },
 "nbformat": 4,
 "nbformat_minor": 2
}
